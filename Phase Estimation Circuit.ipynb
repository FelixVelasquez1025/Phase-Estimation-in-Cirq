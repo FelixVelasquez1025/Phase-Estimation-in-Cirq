{
 "cells": [
  {
   "cell_type": "code",
   "execution_count": 42,
   "id": "initial_id",
   "metadata": {
    "collapsed": true,
    "ExecuteTime": {
     "end_time": "2024-11-08T06:35:45.896543Z",
     "start_time": "2024-11-08T06:35:45.884532Z"
    }
   },
   "outputs": [],
   "source": [
    "import cirq\n",
    "import numpy as np\n",
    "from cirq.circuits import InsertStrategy\n",
    "from cirq          import H, X, SWAP, CZPowGate"
   ]
  },
  {
   "cell_type": "code",
   "outputs": [
    {
     "name": "stdout",
     "output_type": "stream",
     "text": [
      "0: ───H───────────────@─────×────────────────────@─────────@────────H───\n",
      "                      │     │                    │         │\n",
      "1: ───H───────────@───┼─────┼───────@────────H───┼─────────@^-0.5───────\n",
      "                  │   │     │       │            │\n",
      "2: ───H───@───────┼───┼─────×───H───@^-0.5───────@^-0.25────────────────\n",
      "          │       │   │\n",
      "3: ───X───@^0.5───@───@^0───────────────────────────────────────────────\n"
     ]
    }
   ],
   "source": [
    "## Lets start by creating the gates that we are going to need for our QPE cirquit \n",
    "\n",
    "#First we're going to need an IQFT so lets begin by modifying the code from the notes \n",
    "\n",
    "# Define the inverse QFT function\n",
    "def make_IQFT(n, qubits, circuit):\n",
    "    '''\n",
    "    Generates an Inverse Quantum Fourier Transform\n",
    "    :param n: the number of qubits in the cirquit \n",
    "    :param qubits: a list containing the values of the qubits \n",
    "    :param circuit: the circuit that we are applying the IQFT to \n",
    "    :return: circuit with IQFT appended to it \n",
    "     '''\n",
    "    # Swap the qubits as required by QFT\n",
    "    for i in range(n // 2):\n",
    "        circuit.append(cirq.SWAP(qubits[i], qubits[n - i - 1]), strategy=cirq.InsertStrategy.NEW)\n",
    "\n",
    "    # For each qubit apply the appropriate phase\n",
    "    for i in range(n - 1, -1, -1):\n",
    "        # Apply CR_k gates where j is the control and i is the target\n",
    "        k = n - i  # We start with k = n-i\n",
    "        for j in range(n - 1, i, -1):\n",
    "            # Define and apply CR_k gate\n",
    "            crk = cirq.CZPowGate(exponent=-2 / 2**(k))  # Note the i in the exponential is encoded in the gates\n",
    "            circuit.append(crk(qubits[j], qubits[i]), strategy=cirq.InsertStrategy.NEW)  # Use NEW insert strategy\n",
    "            k -= 1  # Decrement at each step\n",
    "\n",
    "        # Apply Hadamard to the qubit\n",
    "        circuit.append(cirq.H(qubits[i]), strategy=cirq.InsertStrategy.NEW)\n",
    "\n",
    "# Create the control-U operator\n",
    "def make_U(phi):\n",
    "    '''\n",
    "    Create the U operator by introduing a p[hase shift on the | 1 > state \n",
    "    :param phi: The desired phase shift \n",
    "    :return: the U operator \n",
    "    '''\n",
    "    \n",
    "    CU = cirq.CZPowGate(exponent=phi*2)\n",
    "    return CU\n",
    "\n",
    "# Quantum Phase Estimation Circuit\n",
    "def make_QPE(n, j):\n",
    "    '''\n",
    "    Create the Quantum Phase Estimation Circuit \n",
    "    \n",
    "    :param n: the amount of decimal places we are aproximaing to and j is the phase we are approximating\n",
    "    :param j: j the number we are estimating \n",
    "    :return: The circuit that performs the phase estimation\n",
    "    '''\n",
    "\n",
    "    \n",
    "    # Begin by creating the circuit, and the qubits\n",
    "    circuit = cirq.Circuit()\n",
    "    control_qubits = [cirq.LineQubit(i) for i in range(n)]\n",
    "    target_qubit = cirq.LineQubit(n)  # Single target qubit\n",
    "\n",
    "    # Set the target qubit to |1> state\n",
    "    circuit.append(cirq.X(target_qubit))\n",
    "\n",
    "    # Apply a Hadamard to each of the control qubits\n",
    "    circuit.append(cirq.H.on_each(control_qubits))\n",
    "\n",
    "    # Apply the CU gates to the circuit\n",
    "    CU = make_U(j)\n",
    "    for i in range(n):\n",
    "        # Update the power of CU gate\n",
    "        CUi = CU**(2**i)\n",
    "        # Apply CUi gate where n-i-1 is the control\n",
    "        circuit.append(CUi(control_qubits[n - i - 1], target_qubit))\n",
    "\n",
    "    # Apply the IQFT to return to the computational basis\n",
    "    make_IQFT(n, control_qubits, circuit)\n",
    "    \n",
    "\n",
    "    return circuit\n",
    "\n",
    "# Now that we have our circuit, initialize the details and print the circuit\n",
    "n = 3  #Use small n to display ciurcuit \n",
    "j = 0.25  \n",
    "\n",
    "QPEcircuit = make_QPE(n, j)\n",
    "print(QPEcircuit)\n",
    "\n",
    "    \n",
    "    "
   ],
   "metadata": {
    "collapsed": false,
    "ExecuteTime": {
     "end_time": "2024-11-08T06:35:45.928573Z",
     "start_time": "2024-11-08T06:35:45.898545Z"
    }
   },
   "id": "693c9937f8f43b4e",
   "execution_count": 43
  },
  {
   "cell_type": "code",
   "outputs": [
    {
     "name": "stdout",
     "output_type": "stream",
     "text": [
      "When estimating 0.7863 to 5 decimal places the estimate is 0.78125\n"
     ]
    }
   ],
   "source": [
    "# Now that we demonstrated that our code indeed reproduces the cirquit for a QPE lets use it to estimate j \n",
    "j = 0.7863\n",
    "n = 5 # we are estimating to 5 decimal places \n",
    "\n",
    "\n",
    "#Create the circuit \n",
    "QPEcircuit2 = make_QPE(n, j)\n",
    "\n",
    "#Measure the circuit results \n",
    "def measure(circuit,control_qubits):\n",
    "    '''\n",
    "    measure measures the circuit and returns the highest probability estimation\n",
    "    :param circuit: the circuit you wish to measure\n",
    "    :param control_qubits: the control qubits of the cirquit \n",
    "    :return: the highest probability estimation of j \n",
    "    '''\n",
    "    circuit.append(cirq.measure(*control_qubits, key = 'result'))\n",
    "\n",
    "    #Simulate the results several times to obtain a good sample size \n",
    "    s = cirq.Simulator()\n",
    "    samples = s.run(circuit, repetitions = 1000)\n",
    "    \n",
    "    #Print the highest probability estimation\n",
    "    frequency = list(samples.histogram(key = 'result').keys())[0]\n",
    "    result = frequency/2**n\n",
    "    \n",
    "    return result\n",
    "result = measure(QPEcircuit2, control_qubits=[cirq.LineQubit(i) for i in range(n)])\n",
    "print(\"When estimating\", j ,\"to\",n,\"decimal places the estimate is\", result)"
   ],
   "metadata": {
    "collapsed": false,
    "ExecuteTime": {
     "end_time": "2024-11-08T06:35:45.960107Z",
     "start_time": "2024-11-08T06:35:45.930574Z"
    }
   },
   "id": "36a5554fcac2a3aa",
   "execution_count": 44
  },
  {
   "cell_type": "code",
   "outputs": [
    {
     "name": "stdout",
     "output_type": "stream",
     "text": [
      "When estimating 0.7863 to 1 decimal places the estimate is 0.5\n",
      "When estimating 0.7863 to 2 decimal places the estimate is 0.75\n",
      "When estimating 0.7863 to 3 decimal places the estimate is 0.75\n",
      "When estimating 0.7863 to 4 decimal places the estimate is 0.75\n",
      "When estimating 0.7863 to 5 decimal places the estimate is 0.78125\n",
      "When estimating 0.7863 to 6 decimal places the estimate is 0.78125\n",
      "When estimating 0.7863 to 7 decimal places the estimate is 0.8046875\n",
      "When estimating 0.7863 to 8 decimal places the estimate is 0.78515625\n"
     ]
    }
   ],
   "source": [
    "## For fun lets look at how the estimation evolves as we increase n \n",
    "for n in range(1,9):\n",
    "    QPEcircuit3 = make_QPE(n, j)\n",
    "    result2 = measure(QPEcircuit3,control_qubits=[cirq.LineQubit(i) for i in range(n)])\n",
    "    print(\"When estimating\", j ,\"to\",n,\"decimal places the estimate is\", result2)\n",
    "    "
   ],
   "metadata": {
    "collapsed": false,
    "ExecuteTime": {
     "end_time": "2024-11-08T06:35:46.101953Z",
     "start_time": "2024-11-08T06:35:45.962109Z"
    }
   },
   "id": "935e593045c8d8a4",
   "execution_count": 45
  },
  {
   "cell_type": "markdown",
   "source": [],
   "metadata": {
    "collapsed": false
   },
   "id": "75d731e5e9e66351"
  }
 ],
 "metadata": {
  "kernelspec": {
   "display_name": "Python 3",
   "language": "python",
   "name": "python3"
  },
  "language_info": {
   "codemirror_mode": {
    "name": "ipython",
    "version": 2
   },
   "file_extension": ".py",
   "mimetype": "text/x-python",
   "name": "python",
   "nbconvert_exporter": "python",
   "pygments_lexer": "ipython2",
   "version": "2.7.6"
  }
 },
 "nbformat": 4,
 "nbformat_minor": 5
}
